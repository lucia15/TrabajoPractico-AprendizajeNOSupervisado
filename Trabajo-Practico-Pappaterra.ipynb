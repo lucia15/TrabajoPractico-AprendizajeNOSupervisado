{
 "cells": [
  {
   "cell_type": "markdown",
   "metadata": {},
   "source": [
    "## Aprendizaje de reglas de asociación\n",
    "\n",
    "### Alumna: María Lucía Pappaterra\n",
    "\n",
    "#### Tarea\n",
    "\n",
    "* Obtener reglas de asociación entre películas en el dataset movielens (como si fuera recomendación!)\n",
    "\n",
    "* Aplicar diferentes métricas de ordenamiento\n",
    "\n",
    "* Hacer un pequeño informe\n",
    "\n",
    "https://rpubs.com/vitidN/203264"
   ]
  },
  {
   "cell_type": "markdown",
   "metadata": {},
   "source": [
    "Primero exporto todos los paquetes necesarios:"
   ]
  },
  {
   "cell_type": "code",
   "execution_count": 1,
   "metadata": {},
   "outputs": [],
   "source": [
    "import numpy as np\n",
    "import pandas as pd\n",
    "import sys\n",
    "import csv\n",
    "\n",
    "from itertools import groupby\n",
    "from efficient_apriori import apriori"
   ]
  },
  {
   "cell_type": "markdown",
   "metadata": {},
   "source": [
    "### Explorando el data set\n",
    "\n",
    "El data set tiene seis archivos .csv, veamos qué contiene cada uno."
   ]
  },
  {
   "cell_type": "code",
   "execution_count": 2,
   "metadata": {},
   "outputs": [],
   "source": [
    "links = pd.read_csv('ml-20m/links.csv')\n",
    "movies = pd.read_csv('ml-20m/movies.csv')\n",
    "ratings = pd.read_csv('ml-20m/ratings.csv')\n",
    "tags = pd.read_csv('ml-20m/tags.csv')\n",
    "genomescores = pd.read_csv('ml-20m/genome-scores.csv')\n",
    "genometags = pd.read_csv('ml-20m/genome-tags.csv')"
   ]
  },
  {
   "cell_type": "code",
   "execution_count": 3,
   "metadata": {},
   "outputs": [],
   "source": [
    "def size(obj):\n",
    "    return \"{0:.2f} MB\".format(sys.getsizeof(obj) / (1000 * 1000))"
   ]
  },
  {
   "cell_type": "code",
   "execution_count": 4,
   "metadata": {},
   "outputs": [
    {
     "name": "stdout",
     "output_type": "stream",
     "text": [
      "movies -- dimensions: (27278, 3);   size: 4.50 MB\n"
     ]
    },
    {
     "data": {
      "text/html": [
       "<div>\n",
       "<style scoped>\n",
       "    .dataframe tbody tr th:only-of-type {\n",
       "        vertical-align: middle;\n",
       "    }\n",
       "\n",
       "    .dataframe tbody tr th {\n",
       "        vertical-align: top;\n",
       "    }\n",
       "\n",
       "    .dataframe thead th {\n",
       "        text-align: right;\n",
       "    }\n",
       "</style>\n",
       "<table border=\"1\" class=\"dataframe\">\n",
       "  <thead>\n",
       "    <tr style=\"text-align: right;\">\n",
       "      <th></th>\n",
       "      <th>movieId</th>\n",
       "      <th>title</th>\n",
       "      <th>genres</th>\n",
       "    </tr>\n",
       "  </thead>\n",
       "  <tbody>\n",
       "    <tr>\n",
       "      <th>0</th>\n",
       "      <td>1</td>\n",
       "      <td>Toy Story (1995)</td>\n",
       "      <td>Adventure|Animation|Children|Comedy|Fantasy</td>\n",
       "    </tr>\n",
       "    <tr>\n",
       "      <th>1</th>\n",
       "      <td>2</td>\n",
       "      <td>Jumanji (1995)</td>\n",
       "      <td>Adventure|Children|Fantasy</td>\n",
       "    </tr>\n",
       "    <tr>\n",
       "      <th>2</th>\n",
       "      <td>3</td>\n",
       "      <td>Grumpier Old Men (1995)</td>\n",
       "      <td>Comedy|Romance</td>\n",
       "    </tr>\n",
       "    <tr>\n",
       "      <th>3</th>\n",
       "      <td>4</td>\n",
       "      <td>Waiting to Exhale (1995)</td>\n",
       "      <td>Comedy|Drama|Romance</td>\n",
       "    </tr>\n",
       "    <tr>\n",
       "      <th>4</th>\n",
       "      <td>5</td>\n",
       "      <td>Father of the Bride Part II (1995)</td>\n",
       "      <td>Comedy</td>\n",
       "    </tr>\n",
       "  </tbody>\n",
       "</table>\n",
       "</div>"
      ],
      "text/plain": [
       "   movieId                               title  \\\n",
       "0        1                    Toy Story (1995)   \n",
       "1        2                      Jumanji (1995)   \n",
       "2        3             Grumpier Old Men (1995)   \n",
       "3        4            Waiting to Exhale (1995)   \n",
       "4        5  Father of the Bride Part II (1995)   \n",
       "\n",
       "                                        genres  \n",
       "0  Adventure|Animation|Children|Comedy|Fantasy  \n",
       "1                   Adventure|Children|Fantasy  \n",
       "2                               Comedy|Romance  \n",
       "3                         Comedy|Drama|Romance  \n",
       "4                                       Comedy  "
      ]
     },
     "execution_count": 4,
     "metadata": {},
     "output_type": "execute_result"
    }
   ],
   "source": [
    "print('movies -- dimensions: {0};   size: {1}'.format(movies.shape, size(movies)))\n",
    "movies.head()"
   ]
  },
  {
   "cell_type": "code",
   "execution_count": 5,
   "metadata": {},
   "outputs": [
    {
     "data": {
      "text/plain": [
       "array(['Adventure|Animation|Children|Comedy|Fantasy',\n",
       "       'Adventure|Children|Fantasy', 'Comedy|Romance', ...,\n",
       "       'Action|Adventure|Animation|Fantasy|Horror',\n",
       "       'Animation|Children|Comedy|Fantasy|Sci-Fi',\n",
       "       'Animation|Children|Comedy|Western'], dtype=object)"
      ]
     },
     "execution_count": 5,
     "metadata": {},
     "output_type": "execute_result"
    }
   ],
   "source": [
    "movies.genres.unique()"
   ]
  },
  {
   "cell_type": "code",
   "execution_count": 6,
   "metadata": {},
   "outputs": [
    {
     "name": "stdout",
     "output_type": "stream",
     "text": [
      "links -- dimensions: (27278, 3);   size: 0.65 MB\n"
     ]
    },
    {
     "data": {
      "text/html": [
       "<div>\n",
       "<style scoped>\n",
       "    .dataframe tbody tr th:only-of-type {\n",
       "        vertical-align: middle;\n",
       "    }\n",
       "\n",
       "    .dataframe tbody tr th {\n",
       "        vertical-align: top;\n",
       "    }\n",
       "\n",
       "    .dataframe thead th {\n",
       "        text-align: right;\n",
       "    }\n",
       "</style>\n",
       "<table border=\"1\" class=\"dataframe\">\n",
       "  <thead>\n",
       "    <tr style=\"text-align: right;\">\n",
       "      <th></th>\n",
       "      <th>movieId</th>\n",
       "      <th>imdbId</th>\n",
       "      <th>tmdbId</th>\n",
       "    </tr>\n",
       "  </thead>\n",
       "  <tbody>\n",
       "    <tr>\n",
       "      <th>0</th>\n",
       "      <td>1</td>\n",
       "      <td>114709</td>\n",
       "      <td>862.0</td>\n",
       "    </tr>\n",
       "    <tr>\n",
       "      <th>1</th>\n",
       "      <td>2</td>\n",
       "      <td>113497</td>\n",
       "      <td>8844.0</td>\n",
       "    </tr>\n",
       "    <tr>\n",
       "      <th>2</th>\n",
       "      <td>3</td>\n",
       "      <td>113228</td>\n",
       "      <td>15602.0</td>\n",
       "    </tr>\n",
       "    <tr>\n",
       "      <th>3</th>\n",
       "      <td>4</td>\n",
       "      <td>114885</td>\n",
       "      <td>31357.0</td>\n",
       "    </tr>\n",
       "    <tr>\n",
       "      <th>4</th>\n",
       "      <td>5</td>\n",
       "      <td>113041</td>\n",
       "      <td>11862.0</td>\n",
       "    </tr>\n",
       "  </tbody>\n",
       "</table>\n",
       "</div>"
      ],
      "text/plain": [
       "   movieId  imdbId   tmdbId\n",
       "0        1  114709    862.0\n",
       "1        2  113497   8844.0\n",
       "2        3  113228  15602.0\n",
       "3        4  114885  31357.0\n",
       "4        5  113041  11862.0"
      ]
     },
     "execution_count": 6,
     "metadata": {},
     "output_type": "execute_result"
    }
   ],
   "source": [
    "print('links -- dimensions: {0};   size: {1}'.format(links.shape, size(links)))\n",
    "links.head()"
   ]
  },
  {
   "cell_type": "code",
   "execution_count": 7,
   "metadata": {},
   "outputs": [
    {
     "name": "stdout",
     "output_type": "stream",
     "text": [
      "genome-scores -- dimensions: (11709768, 3);   size: 281.03 MB\n"
     ]
    },
    {
     "data": {
      "text/html": [
       "<div>\n",
       "<style scoped>\n",
       "    .dataframe tbody tr th:only-of-type {\n",
       "        vertical-align: middle;\n",
       "    }\n",
       "\n",
       "    .dataframe tbody tr th {\n",
       "        vertical-align: top;\n",
       "    }\n",
       "\n",
       "    .dataframe thead th {\n",
       "        text-align: right;\n",
       "    }\n",
       "</style>\n",
       "<table border=\"1\" class=\"dataframe\">\n",
       "  <thead>\n",
       "    <tr style=\"text-align: right;\">\n",
       "      <th></th>\n",
       "      <th>movieId</th>\n",
       "      <th>tagId</th>\n",
       "      <th>relevance</th>\n",
       "    </tr>\n",
       "  </thead>\n",
       "  <tbody>\n",
       "    <tr>\n",
       "      <th>0</th>\n",
       "      <td>1</td>\n",
       "      <td>1</td>\n",
       "      <td>0.02500</td>\n",
       "    </tr>\n",
       "    <tr>\n",
       "      <th>1</th>\n",
       "      <td>1</td>\n",
       "      <td>2</td>\n",
       "      <td>0.02500</td>\n",
       "    </tr>\n",
       "    <tr>\n",
       "      <th>2</th>\n",
       "      <td>1</td>\n",
       "      <td>3</td>\n",
       "      <td>0.05775</td>\n",
       "    </tr>\n",
       "    <tr>\n",
       "      <th>3</th>\n",
       "      <td>1</td>\n",
       "      <td>4</td>\n",
       "      <td>0.09675</td>\n",
       "    </tr>\n",
       "    <tr>\n",
       "      <th>4</th>\n",
       "      <td>1</td>\n",
       "      <td>5</td>\n",
       "      <td>0.14675</td>\n",
       "    </tr>\n",
       "  </tbody>\n",
       "</table>\n",
       "</div>"
      ],
      "text/plain": [
       "   movieId  tagId  relevance\n",
       "0        1      1    0.02500\n",
       "1        1      2    0.02500\n",
       "2        1      3    0.05775\n",
       "3        1      4    0.09675\n",
       "4        1      5    0.14675"
      ]
     },
     "execution_count": 7,
     "metadata": {},
     "output_type": "execute_result"
    }
   ],
   "source": [
    "print('genome-scores -- dimensions: {0};   size: {1}'.format(genomescores.shape, size(genomescores)))\n",
    "genomescores.head()"
   ]
  },
  {
   "cell_type": "code",
   "execution_count": 8,
   "metadata": {},
   "outputs": [
    {
     "name": "stdout",
     "output_type": "stream",
     "text": [
      "genome-tags -- dimensions: (1128, 2);   size: 0.08 MB\n"
     ]
    },
    {
     "data": {
      "text/html": [
       "<div>\n",
       "<style scoped>\n",
       "    .dataframe tbody tr th:only-of-type {\n",
       "        vertical-align: middle;\n",
       "    }\n",
       "\n",
       "    .dataframe tbody tr th {\n",
       "        vertical-align: top;\n",
       "    }\n",
       "\n",
       "    .dataframe thead th {\n",
       "        text-align: right;\n",
       "    }\n",
       "</style>\n",
       "<table border=\"1\" class=\"dataframe\">\n",
       "  <thead>\n",
       "    <tr style=\"text-align: right;\">\n",
       "      <th></th>\n",
       "      <th>tagId</th>\n",
       "      <th>tag</th>\n",
       "    </tr>\n",
       "  </thead>\n",
       "  <tbody>\n",
       "    <tr>\n",
       "      <th>0</th>\n",
       "      <td>1</td>\n",
       "      <td>007</td>\n",
       "    </tr>\n",
       "    <tr>\n",
       "      <th>1</th>\n",
       "      <td>2</td>\n",
       "      <td>007 (series)</td>\n",
       "    </tr>\n",
       "    <tr>\n",
       "      <th>2</th>\n",
       "      <td>3</td>\n",
       "      <td>18th century</td>\n",
       "    </tr>\n",
       "    <tr>\n",
       "      <th>3</th>\n",
       "      <td>4</td>\n",
       "      <td>1920s</td>\n",
       "    </tr>\n",
       "    <tr>\n",
       "      <th>4</th>\n",
       "      <td>5</td>\n",
       "      <td>1930s</td>\n",
       "    </tr>\n",
       "  </tbody>\n",
       "</table>\n",
       "</div>"
      ],
      "text/plain": [
       "   tagId           tag\n",
       "0      1           007\n",
       "1      2  007 (series)\n",
       "2      3  18th century\n",
       "3      4         1920s\n",
       "4      5         1930s"
      ]
     },
     "execution_count": 8,
     "metadata": {},
     "output_type": "execute_result"
    }
   ],
   "source": [
    "print('genome-tags -- dimensions: {0};   size: {1}'.format(genometags.shape, size(genometags)))\n",
    "genometags.head()"
   ]
  },
  {
   "cell_type": "code",
   "execution_count": 9,
   "metadata": {},
   "outputs": [
    {
     "name": "stdout",
     "output_type": "stream",
     "text": [
      "ratings -- dimensions: (20000263, 4);   size: 640.01 MB\n"
     ]
    },
    {
     "data": {
      "text/html": [
       "<div>\n",
       "<style scoped>\n",
       "    .dataframe tbody tr th:only-of-type {\n",
       "        vertical-align: middle;\n",
       "    }\n",
       "\n",
       "    .dataframe tbody tr th {\n",
       "        vertical-align: top;\n",
       "    }\n",
       "\n",
       "    .dataframe thead th {\n",
       "        text-align: right;\n",
       "    }\n",
       "</style>\n",
       "<table border=\"1\" class=\"dataframe\">\n",
       "  <thead>\n",
       "    <tr style=\"text-align: right;\">\n",
       "      <th></th>\n",
       "      <th>userId</th>\n",
       "      <th>movieId</th>\n",
       "      <th>rating</th>\n",
       "      <th>timestamp</th>\n",
       "    </tr>\n",
       "  </thead>\n",
       "  <tbody>\n",
       "    <tr>\n",
       "      <th>0</th>\n",
       "      <td>1</td>\n",
       "      <td>2</td>\n",
       "      <td>3.5</td>\n",
       "      <td>1112486027</td>\n",
       "    </tr>\n",
       "    <tr>\n",
       "      <th>1</th>\n",
       "      <td>1</td>\n",
       "      <td>29</td>\n",
       "      <td>3.5</td>\n",
       "      <td>1112484676</td>\n",
       "    </tr>\n",
       "    <tr>\n",
       "      <th>2</th>\n",
       "      <td>1</td>\n",
       "      <td>32</td>\n",
       "      <td>3.5</td>\n",
       "      <td>1112484819</td>\n",
       "    </tr>\n",
       "    <tr>\n",
       "      <th>3</th>\n",
       "      <td>1</td>\n",
       "      <td>47</td>\n",
       "      <td>3.5</td>\n",
       "      <td>1112484727</td>\n",
       "    </tr>\n",
       "    <tr>\n",
       "      <th>4</th>\n",
       "      <td>1</td>\n",
       "      <td>50</td>\n",
       "      <td>3.5</td>\n",
       "      <td>1112484580</td>\n",
       "    </tr>\n",
       "  </tbody>\n",
       "</table>\n",
       "</div>"
      ],
      "text/plain": [
       "   userId  movieId  rating   timestamp\n",
       "0       1        2     3.5  1112486027\n",
       "1       1       29     3.5  1112484676\n",
       "2       1       32     3.5  1112484819\n",
       "3       1       47     3.5  1112484727\n",
       "4       1       50     3.5  1112484580"
      ]
     },
     "execution_count": 9,
     "metadata": {},
     "output_type": "execute_result"
    }
   ],
   "source": [
    "print('ratings -- dimensions: {0};   size: {1}'.format(ratings.shape, size(ratings)))\n",
    "ratings.head()"
   ]
  },
  {
   "cell_type": "code",
   "execution_count": 10,
   "metadata": {},
   "outputs": [
    {
     "data": {
      "text/plain": [
       "array([3.5, 4. , 3. , 4.5, 5. , 2. , 1. , 2.5, 0.5, 1.5])"
      ]
     },
     "execution_count": 10,
     "metadata": {},
     "output_type": "execute_result"
    }
   ],
   "source": [
    "ratings.rating.unique()"
   ]
  },
  {
   "cell_type": "code",
   "execution_count": 11,
   "metadata": {},
   "outputs": [
    {
     "name": "stdout",
     "output_type": "stream",
     "text": [
      "tags -- dimensions: (465564, 4);   size: 42.91 MB\n"
     ]
    },
    {
     "data": {
      "text/html": [
       "<div>\n",
       "<style scoped>\n",
       "    .dataframe tbody tr th:only-of-type {\n",
       "        vertical-align: middle;\n",
       "    }\n",
       "\n",
       "    .dataframe tbody tr th {\n",
       "        vertical-align: top;\n",
       "    }\n",
       "\n",
       "    .dataframe thead th {\n",
       "        text-align: right;\n",
       "    }\n",
       "</style>\n",
       "<table border=\"1\" class=\"dataframe\">\n",
       "  <thead>\n",
       "    <tr style=\"text-align: right;\">\n",
       "      <th></th>\n",
       "      <th>userId</th>\n",
       "      <th>movieId</th>\n",
       "      <th>tag</th>\n",
       "      <th>timestamp</th>\n",
       "    </tr>\n",
       "  </thead>\n",
       "  <tbody>\n",
       "    <tr>\n",
       "      <th>0</th>\n",
       "      <td>18</td>\n",
       "      <td>4141</td>\n",
       "      <td>Mark Waters</td>\n",
       "      <td>1240597180</td>\n",
       "    </tr>\n",
       "    <tr>\n",
       "      <th>1</th>\n",
       "      <td>65</td>\n",
       "      <td>208</td>\n",
       "      <td>dark hero</td>\n",
       "      <td>1368150078</td>\n",
       "    </tr>\n",
       "    <tr>\n",
       "      <th>2</th>\n",
       "      <td>65</td>\n",
       "      <td>353</td>\n",
       "      <td>dark hero</td>\n",
       "      <td>1368150079</td>\n",
       "    </tr>\n",
       "    <tr>\n",
       "      <th>3</th>\n",
       "      <td>65</td>\n",
       "      <td>521</td>\n",
       "      <td>noir thriller</td>\n",
       "      <td>1368149983</td>\n",
       "    </tr>\n",
       "    <tr>\n",
       "      <th>4</th>\n",
       "      <td>65</td>\n",
       "      <td>592</td>\n",
       "      <td>dark hero</td>\n",
       "      <td>1368150078</td>\n",
       "    </tr>\n",
       "  </tbody>\n",
       "</table>\n",
       "</div>"
      ],
      "text/plain": [
       "   userId  movieId            tag   timestamp\n",
       "0      18     4141    Mark Waters  1240597180\n",
       "1      65      208      dark hero  1368150078\n",
       "2      65      353      dark hero  1368150079\n",
       "3      65      521  noir thriller  1368149983\n",
       "4      65      592      dark hero  1368150078"
      ]
     },
     "execution_count": 11,
     "metadata": {},
     "output_type": "execute_result"
    }
   ],
   "source": [
    "print('tags -- dimensions: {0};   size: {1}'.format(tags.shape, size(tags)))\n",
    "tags.head()"
   ]
  },
  {
   "cell_type": "code",
   "execution_count": 12,
   "metadata": {},
   "outputs": [
    {
     "data": {
      "text/plain": [
       "array(['Mark Waters', 'dark hero', 'noir thriller', ..., 'circle k',\n",
       "       'This movie should have been called \"How Cocaine Ruined Disney\"',\n",
       "       'topless scene'], dtype=object)"
      ]
     },
     "execution_count": 12,
     "metadata": {},
     "output_type": "execute_result"
    }
   ],
   "source": [
    "tags.tag.unique()"
   ]
  },
  {
   "cell_type": "markdown",
   "metadata": {},
   "source": [
    "Los datos que nos interesan son los que se encuentran en **ratings**. "
   ]
  },
  {
   "cell_type": "code",
   "execution_count": 13,
   "metadata": {},
   "outputs": [
    {
     "data": {
      "text/plain": [
       "array([3.5, 4. , 3. , 4.5, 5. , 2. , 1. , 2.5, 0.5, 1.5])"
      ]
     },
     "execution_count": 13,
     "metadata": {},
     "output_type": "execute_result"
    }
   ],
   "source": [
    "ratings.rating.unique()"
   ]
  },
  {
   "cell_type": "markdown",
   "metadata": {},
   "source": [
    "Vemos que hay 10 valores de ranting posibles. Me interesan solo las películas con un rating mayor a un cierto umbral, ya que solo quiero recomendarle al usuario películas que le agraden. Por eso eliminamos del dataframe todas las películas que tengan un rating menor al rating mínimo fijado de antemano."
   ]
  },
  {
   "cell_type": "code",
   "execution_count": 14,
   "metadata": {},
   "outputs": [
    {
     "name": "stdout",
     "output_type": "stream",
     "text": [
      "ratings -- dimensions: (4433484, 4);   size: 177.34 MB\n"
     ]
    },
    {
     "data": {
      "text/html": [
       "<div>\n",
       "<style scoped>\n",
       "    .dataframe tbody tr th:only-of-type {\n",
       "        vertical-align: middle;\n",
       "    }\n",
       "\n",
       "    .dataframe tbody tr th {\n",
       "        vertical-align: top;\n",
       "    }\n",
       "\n",
       "    .dataframe thead th {\n",
       "        text-align: right;\n",
       "    }\n",
       "</style>\n",
       "<table border=\"1\" class=\"dataframe\">\n",
       "  <thead>\n",
       "    <tr style=\"text-align: right;\">\n",
       "      <th></th>\n",
       "      <th>userId</th>\n",
       "      <th>movieId</th>\n",
       "      <th>rating</th>\n",
       "      <th>timestamp</th>\n",
       "    </tr>\n",
       "  </thead>\n",
       "  <tbody>\n",
       "    <tr>\n",
       "      <th>30</th>\n",
       "      <td>1</td>\n",
       "      <td>1196</td>\n",
       "      <td>4.5</td>\n",
       "      <td>1112484742</td>\n",
       "    </tr>\n",
       "    <tr>\n",
       "      <th>31</th>\n",
       "      <td>1</td>\n",
       "      <td>1198</td>\n",
       "      <td>4.5</td>\n",
       "      <td>1112484624</td>\n",
       "    </tr>\n",
       "    <tr>\n",
       "      <th>131</th>\n",
       "      <td>1</td>\n",
       "      <td>4993</td>\n",
       "      <td>5.0</td>\n",
       "      <td>1112484682</td>\n",
       "    </tr>\n",
       "    <tr>\n",
       "      <th>142</th>\n",
       "      <td>1</td>\n",
       "      <td>5952</td>\n",
       "      <td>5.0</td>\n",
       "      <td>1112484619</td>\n",
       "    </tr>\n",
       "    <tr>\n",
       "      <th>158</th>\n",
       "      <td>1</td>\n",
       "      <td>7153</td>\n",
       "      <td>5.0</td>\n",
       "      <td>1112484633</td>\n",
       "    </tr>\n",
       "  </tbody>\n",
       "</table>\n",
       "</div>"
      ],
      "text/plain": [
       "     userId  movieId  rating   timestamp\n",
       "30        1     1196     4.5  1112484742\n",
       "31        1     1198     4.5  1112484624\n",
       "131       1     4993     5.0  1112484682\n",
       "142       1     5952     5.0  1112484619\n",
       "158       1     7153     5.0  1112484633"
      ]
     },
     "execution_count": 14,
     "metadata": {},
     "output_type": "execute_result"
    }
   ],
   "source": [
    "min_rat = 4.5 #rating mínimo\n",
    "\n",
    "ratings = ratings[ratings.rating >= min_rat]\n",
    "print('ratings -- dimensions: {0};   size: {1}'.format(ratings.shape, size(ratings)))\n",
    "ratings.head()"
   ]
  },
  {
   "cell_type": "code",
   "execution_count": 15,
   "metadata": {},
   "outputs": [
    {
     "data": {
      "text/plain": [
       "array([4.5, 5. ])"
      ]
     },
     "execution_count": 15,
     "metadata": {},
     "output_type": "execute_result"
    }
   ],
   "source": [
    "ratings.rating.unique()"
   ]
  },
  {
   "cell_type": "markdown",
   "metadata": {},
   "source": [
    "Necesitamos decodificar el nombre de las películas, para eso usamos una columna de **movies**."
   ]
  },
  {
   "cell_type": "code",
   "execution_count": 16,
   "metadata": {},
   "outputs": [
    {
     "data": {
      "text/html": [
       "<div>\n",
       "<style scoped>\n",
       "    .dataframe tbody tr th:only-of-type {\n",
       "        vertical-align: middle;\n",
       "    }\n",
       "\n",
       "    .dataframe tbody tr th {\n",
       "        vertical-align: top;\n",
       "    }\n",
       "\n",
       "    .dataframe thead th {\n",
       "        text-align: right;\n",
       "    }\n",
       "</style>\n",
       "<table border=\"1\" class=\"dataframe\">\n",
       "  <thead>\n",
       "    <tr style=\"text-align: right;\">\n",
       "      <th></th>\n",
       "      <th>userId</th>\n",
       "      <th>movieId</th>\n",
       "      <th>title</th>\n",
       "    </tr>\n",
       "  </thead>\n",
       "  <tbody>\n",
       "    <tr>\n",
       "      <th>0</th>\n",
       "      <td>1</td>\n",
       "      <td>1196</td>\n",
       "      <td>Star Wars: Episode V - The Empire Strikes Back...</td>\n",
       "    </tr>\n",
       "    <tr>\n",
       "      <th>1</th>\n",
       "      <td>2</td>\n",
       "      <td>1196</td>\n",
       "      <td>Star Wars: Episode V - The Empire Strikes Back...</td>\n",
       "    </tr>\n",
       "    <tr>\n",
       "      <th>2</th>\n",
       "      <td>3</td>\n",
       "      <td>1196</td>\n",
       "      <td>Star Wars: Episode V - The Empire Strikes Back...</td>\n",
       "    </tr>\n",
       "    <tr>\n",
       "      <th>3</th>\n",
       "      <td>5</td>\n",
       "      <td>1196</td>\n",
       "      <td>Star Wars: Episode V - The Empire Strikes Back...</td>\n",
       "    </tr>\n",
       "    <tr>\n",
       "      <th>4</th>\n",
       "      <td>7</td>\n",
       "      <td>1196</td>\n",
       "      <td>Star Wars: Episode V - The Empire Strikes Back...</td>\n",
       "    </tr>\n",
       "  </tbody>\n",
       "</table>\n",
       "</div>"
      ],
      "text/plain": [
       "   userId  movieId                                              title\n",
       "0       1     1196  Star Wars: Episode V - The Empire Strikes Back...\n",
       "1       2     1196  Star Wars: Episode V - The Empire Strikes Back...\n",
       "2       3     1196  Star Wars: Episode V - The Empire Strikes Back...\n",
       "3       5     1196  Star Wars: Episode V - The Empire Strikes Back...\n",
       "4       7     1196  Star Wars: Episode V - The Empire Strikes Back..."
      ]
     },
     "execution_count": 16,
     "metadata": {},
     "output_type": "execute_result"
    }
   ],
   "source": [
    "#decodificar el nombre de las películas:\n",
    "ratings_df = pd.merge(ratings[['userId','movieId']], movies[['movieId','title']] ,on='movieId', how= \"inner\")\n",
    "\n",
    "ratings_df.head()"
   ]
  },
  {
   "cell_type": "code",
   "execution_count": 17,
   "metadata": {},
   "outputs": [
    {
     "name": "stdout",
     "output_type": "stream",
     "text": [
      "         userId  movieId                                              title\n",
      "0             1     1196  Star Wars: Episode V - The Empire Strikes Back...\n",
      "43502         1     4993  Lord of the Rings: The Fellowship of the Ring,...\n",
      "63197         1     5952      Lord of the Rings: The Two Towers, The (2002)\n",
      "80358         1     7153  Lord of the Rings: The Return of the King, The...\n",
      "97248         1     8507                                      Freaks (1932)\n",
      "...         ...      ...                                                ...\n",
      "2229294  138493     2997                        Being John Malkovich (1999)\n",
      "2058617  138493     5679                                   Ring, The (2002)\n",
      "1258112  138493     1225                                     Amadeus (1984)\n",
      "1453252  138493     5971       My Neighbor Totoro (Tonari no Totoro) (1988)\n",
      "489328   138493     1206                         Clockwork Orange, A (1971)\n",
      "\n",
      "[4433484 rows x 3 columns]\n"
     ]
    }
   ],
   "source": [
    "ratings_df = ratings_df.sort_values( by='userId', axis=0, ascending=True, \n",
    "                                    inplace=False, kind='quicksort', \n",
    "                                    na_position='last')\n",
    "print(ratings_df)"
   ]
  },
  {
   "cell_type": "code",
   "execution_count": 18,
   "metadata": {},
   "outputs": [
    {
     "name": "stdout",
     "output_type": "stream",
     "text": [
      "[[1 'Star Wars: Episode V - The Empire Strikes Back (1980)']\n",
      " [1 'Lord of the Rings: The Fellowship of the Ring, The (2001)']\n",
      " [1 'Lord of the Rings: The Two Towers, The (2002)']\n",
      " ...\n",
      " [138493 'Amadeus (1984)']\n",
      " [138493 'My Neighbor Totoro (Tonari no Totoro) (1988)']\n",
      " [138493 'Clockwork Orange, A (1971)']]\n"
     ]
    }
   ],
   "source": [
    "ratings = ratings_df.values[:,[0,2]]\n",
    "print(ratings)"
   ]
  },
  {
   "cell_type": "markdown",
   "metadata": {},
   "source": [
    "Cada **transacción** será el conjunto de todas las películas que un mismo usuario consideró con un rating mayor al que fijamos como mínimo y será almacenada en una lista."
   ]
  },
  {
   "cell_type": "markdown",
   "metadata": {},
   "source": [
    "### Métricas\n",
    "\n",
    "Antes de derivar las reglas deseadas y para el análisis que sigue, necesitamos dejar en claro cuáles son las métricas asociadas a ellas.\n",
    "\n",
    "El **soporte** de la regla $\\{X\\} \\Rightarrow \\{Y\\}$ se define cómo $$ Sop = P(X \\cup Y) = \\dfrac{frec(X,Y)}{N} $$\n",
    "\n",
    "donde $N$ es la cantidad de transacciones en la base de datos y $frec(X,Y)$ es la cantidad de transacciones en el conjunto de datos que contiene a $X$ y a $Y$ al mismo tiempo. Es decir, el soporte es la proporción de transacciones en la base de datos que contiene dicho conjunto de items.\n",
    "\n",
    "Más soporte indica que la regla se encuentra en más transacciones, mientras que una regla con bajo soporte puede haber aparecido por casualidad.\n",
    "\n",
    "La **confianza** de esta regla se define como: $$ Conf = P(Y|X) = \\dfrac{frec(X,Y)}{frec(X)}$$\n",
    "\n",
    "esto es, el porcentaje de transacciones que contienen $Y$, entre las transacciones que contienen $X$.\n",
    "\n",
    "Más confianza indica mayor probabilidad de que la regla sea cierta para una transacción. Si una regla tiene baja confianza, es probable que no exista relación entre antecedente y consecuente.\n",
    "\n",
    "Tanto el soporte como la confianza son probabilidades, por lo tanto sus valores varían entre 0 y 1. \n",
    "\n",
    "El **lift** indica la proporción entre el soporte observado de un conjunto de ítems respecto del soporte teórico de ese conjunto dado el supuesto de independencia. Y está dado por las siguientes fórmulas equivalentes: $$ Lift =   \\dfrac{Sop(X \\Rightarrow Y)}{Sop(X) \\times Sop(Y)} = \\dfrac{P(X \\cup Y)}{P(X) \\times P(Y)} = \\dfrac{N \\times frec(X,Y)}{frec(X) \\times frec(Y)}$$\n",
    "\n",
    "Más lift indica menor probabilidad de que la regla sea una casualidad.\n",
    "\n",
    "La **convicción** expresa que tan independientes son las variables $X$ y $¬Y$, \n",
    "\n",
    "$$ Conv = \\dfrac{1 - Sop(Y)}{1 - Conf(X \\Rightarrow Y)} = \\dfrac{frec(X) \\times frec(¬Y)}{frec(X, ¬Y)} $$\n",
    "\n",
    "donde $frec(¬Y)$ es la cantidad de transacciones en la base de datos que no contienen a $Y$ y $frec(X, ¬Y)$ es la cantidad de transacciones en la base de datos que contienen a $X$ y no contienen a $Y$.\n",
    "\n",
    "La convicción va de 1 a infinito (si la confianza es 1, la convicción es infinita, no 0). Más convicción indica mayor grado de implicación. Altos valores para convicción (cuando $frec(X, ¬Y)$ tiende a cero) afirman la convicción de que esta regla representa una causalidad."
   ]
  },
  {
   "cell_type": "markdown",
   "metadata": {},
   "source": [
    "### Derivación de las reglas\n",
    "\n",
    "Las mismas serán generadas con el **algoritmo apriori**, https://pypi.org/project/efficient-apriori/\n",
    "\n",
    "Como tenemos muchos datos, para almacenar las transacciones debemos usar un generador de listas en lugar de una lista de listas. El generador que defino a continuación va creando cada transacción de a una para no usar toda la memoria."
   ]
  },
  {
   "cell_type": "code",
   "execution_count": 20,
   "metadata": {},
   "outputs": [],
   "source": [
    "def transactions_generator():\n",
    "    for userId, movie_object in groupby(ratings, lambda x: x[0]):\n",
    "        yield [item[1] for item in movie_object]"
   ]
  },
  {
   "cell_type": "markdown",
   "metadata": {},
   "source": [
    "A continuación corremos el algoritmo apriori e imprimimos las reglas generadas con sus métricas asociadas. \n",
    "\n",
    "Elegí una confianza mínima de $0.55$, pues quería tener una confianza mayor al $50\\%$, pero también generar reglas interesantes y no tan obvias. \n",
    "\n",
    "Para el soporte mínimo probé varios valores, siendo $0.06$ el mínimo posible para el cuál el tiempo de ejecución es razonable."
   ]
  },
  {
   "cell_type": "code",
   "execution_count": 21,
   "metadata": {},
   "outputs": [
    {
     "name": "stdout",
     "output_type": "stream",
     "text": [
      "{Star Wars: Episode V - The Empire Strikes Back (1980)} -> {Star Wars: Episode VI - Return of the Jedi (1983)} (conf: 0.555, supp: 0.092, lift: 4.187, conv: 1.950)\n",
      "{Usual Suspects, The (1995)} -> {Shawshank Redemption, The (1994)} (conf: 0.556, supp: 0.109, lift: 1.872, conv: 1.584)\n",
      "{Seven (a.k.a. Se7en) (1995)} -> {Shawshank Redemption, The (1994)} (conf: 0.557, supp: 0.073, lift: 1.873, conv: 1.586)\n",
      "{Star Wars: Episode IV - A New Hope (1977), Star Wars: Episode V - The Empire Strikes Back (1980)} -> {Raiders of the Lost Ark (Indiana Jones and the Raiders of the Lost Ark) (1981)} (conf: 0.563, supp: 0.068, lift: 3.661, conv: 1.936)\n",
      "{Shawshank Redemption, The (1994), Silence of the Lambs, The (1991)} -> {Pulp Fiction (1994)} (conf: 0.569, supp: 0.062, lift: 2.179, conv: 1.714)\n",
      "{Raiders of the Lost Ark (Indiana Jones and the Raiders of the Lost Ark) (1981)} -> {Star Wars: Episode IV - A New Hope (1977)} (conf: 0.579, supp: 0.089, lift: 2.858, conv: 1.893)\n",
      "{Shawshank Redemption, The (1994), Usual Suspects, The (1995)} -> {Pulp Fiction (1994)} (conf: 0.579, supp: 0.063, lift: 2.219, conv: 1.757)\n",
      "{Lord of the Rings: The Fellowship of the Ring, The (2001)} -> {Lord of the Rings: The Return of the King, The (2003), Lord of the Rings: The Two Towers, The (2002)} (conf: 0.585, supp: 0.084, lift: 6.208, conv: 2.183)\n",
      "{Seven (a.k.a. Se7en) (1995)} -> {Pulp Fiction (1994)} (conf: 0.591, supp: 0.077, lift: 2.265, conv: 1.808)\n",
      "{Pulp Fiction (1994), Silence of the Lambs, The (1991)} -> {Shawshank Redemption, The (1994)} (conf: 0.592, supp: 0.062, lift: 1.992, conv: 1.723)\n",
      "{Star Wars: Episode VI - Return of the Jedi (1983)} -> {Star Wars: Episode IV - A New Hope (1977), Star Wars: Episode V - The Empire Strikes Back (1980)} (conf: 0.593, supp: 0.079, lift: 4.877, conv: 2.159)\n",
      "{Star Wars: Episode IV - A New Hope (1977)} -> {Star Wars: Episode V - The Empire Strikes Back (1980)} (conf: 0.601, supp: 0.122, lift: 3.641, conv: 2.091)\n",
      "{Pulp Fiction (1994), Usual Suspects, The (1995)} -> {Shawshank Redemption, The (1994)} (conf: 0.608, supp: 0.063, lift: 2.045, conv: 1.792)\n",
      "{Star Wars: Episode IV - A New Hope (1977), Star Wars: Episode V - The Empire Strikes Back (1980)} -> {Star Wars: Episode VI - Return of the Jedi (1983)} (conf: 0.647, supp: 0.079, lift: 4.877, conv: 2.456)\n",
      "{Lord of the Rings: The Two Towers, The (2002)} -> {Lord of the Rings: The Fellowship of the Ring, The (2001), Lord of the Rings: The Return of the King, The (2003)} (conf: 0.672, supp: 0.084, lift: 6.851, conv: 2.746)\n",
      "{Lord of the Rings: The Fellowship of the Ring, The (2001)} -> {Lord of the Rings: The Return of the King, The (2003)} (conf: 0.679, supp: 0.098, lift: 5.488, conv: 2.731)\n",
      "{Lord of the Rings: The Return of the King, The (2003)} -> {Lord of the Rings: The Fellowship of the Ring, The (2001), Lord of the Rings: The Two Towers, The (2002)} (conf: 0.682, supp: 0.084, lift: 6.719, conv: 2.828)\n",
      "{Star Wars: Episode VI - Return of the Jedi (1983)} -> {Star Wars: Episode V - The Empire Strikes Back (1980)} (conf: 0.691, supp: 0.092, lift: 4.187, conv: 2.701)\n",
      "{Lord of the Rings: The Fellowship of the Ring, The (2001)} -> {Lord of the Rings: The Two Towers, The (2002)} (conf: 0.704, supp: 0.102, lift: 5.596, conv: 2.950)\n",
      "{Indiana Jones and the Last Crusade (1989)} -> {Raiders of the Lost Ark (Indiana Jones and the Raiders of the Lost Ark) (1981)} (conf: 0.734, supp: 0.061, lift: 4.775, conv: 3.184)\n",
      "{Star Wars: Episode V - The Empire Strikes Back (1980)} -> {Star Wars: Episode IV - A New Hope (1977)} (conf: 0.737, supp: 0.122, lift: 3.641, conv: 3.034)\n",
      "{Lord of the Rings: The Two Towers, The (2002)} -> {Lord of the Rings: The Return of the King, The (2003)} (conf: 0.750, supp: 0.094, lift: 6.056, conv: 3.499)\n",
      "{Reservoir Dogs (1992)} -> {Pulp Fiction (1994)} (conf: 0.758, supp: 0.067, lift: 2.903, conv: 3.051)\n",
      "{Star Wars: Episode VI - Return of the Jedi (1983)} -> {Star Wars: Episode IV - A New Hope (1977)} (conf: 0.761, supp: 0.101, lift: 3.759, conv: 3.337)\n",
      "{Lord of the Rings: The Return of the King, The (2003)} -> {Lord of the Rings: The Two Towers, The (2002)} (conf: 0.762, supp: 0.094, lift: 6.056, conv: 3.667)\n",
      "{Raiders of the Lost Ark (Indiana Jones and the Raiders of the Lost Ark) (1981), Star Wars: Episode IV - A New Hope (1977)} -> {Star Wars: Episode V - The Empire Strikes Back (1980)} (conf: 0.769, supp: 0.068, lift: 4.664, conv: 3.622)\n",
      "{Matrix, The (1999), Star Wars: Episode IV - A New Hope (1977)} -> {Star Wars: Episode V - The Empire Strikes Back (1980)} (conf: 0.779, supp: 0.062, lift: 4.721, conv: 3.778)\n",
      "{Star Wars: Episode IV - A New Hope (1977), Star Wars: Episode VI - Return of the Jedi (1983)} -> {Star Wars: Episode V - The Empire Strikes Back (1980)} (conf: 0.779, supp: 0.079, lift: 4.724, conv: 3.786)\n",
      "{Matrix, The (1999), Star Wars: Episode V - The Empire Strikes Back (1980)} -> {Star Wars: Episode IV - A New Hope (1977)} (conf: 0.789, supp: 0.062, lift: 3.897, conv: 3.779)\n",
      "{Lord of the Rings: The Return of the King, The (2003)} -> {Lord of the Rings: The Fellowship of the Ring, The (2001)} (conf: 0.792, supp: 0.098, lift: 5.488, conv: 4.114)\n",
      "{Lord of the Rings: The Two Towers, The (2002)} -> {Lord of the Rings: The Fellowship of the Ring, The (2001)} (conf: 0.808, supp: 0.102, lift: 5.596, conv: 4.446)\n",
      "{Raiders of the Lost Ark (Indiana Jones and the Raiders of the Lost Ark) (1981), Star Wars: Episode V - The Empire Strikes Back (1980)} -> {Star Wars: Episode IV - A New Hope (1977)} (conf: 0.810, supp: 0.068, lift: 4.002, conv: 4.202)\n",
      "{Lord of the Rings: The Fellowship of the Ring, The (2001), Lord of the Rings: The Two Towers, The (2002)} -> {Lord of the Rings: The Return of the King, The (2003)} (conf: 0.832, supp: 0.084, lift: 6.719, conv: 5.203)\n",
      "{Star Wars: Episode V - The Empire Strikes Back (1980), Star Wars: Episode VI - Return of the Jedi (1983)} -> {Star Wars: Episode IV - A New Hope (1977)} (conf: 0.859, supp: 0.079, lift: 4.241, conv: 5.640)\n",
      "{Lord of the Rings: The Fellowship of the Ring, The (2001), Lord of the Rings: The Return of the King, The (2003)} -> {Lord of the Rings: The Two Towers, The (2002)} (conf: 0.861, supp: 0.084, lift: 6.851, conv: 6.311)\n",
      "{Godfather: Part II, The (1974)} -> {Godfather, The (1972)} (conf: 0.877, supp: 0.099, lift: 4.692, conv: 6.621)\n",
      "{Lord of the Rings: The Return of the King, The (2003), Lord of the Rings: The Two Towers, The (2002)} -> {Lord of the Rings: The Fellowship of the Ring, The (2001)} (conf: 0.896, supp: 0.084, lift: 6.208, conv: 8.220)\n"
     ]
    }
   ],
   "source": [
    "trans_gen = transactions_generator()\n",
    "\n",
    "itemsets, rules = apriori(trans_gen, min_support=0.06,  min_confidence=0.55)\n",
    "\n",
    "rules=sorted(rules, key=lambda rule: rule.confidence)\n",
    "for rule in rules:\n",
    "    print(rule) # Prints the rule and its confidence, support, lift, ..."
   ]
  },
  {
   "cell_type": "markdown",
   "metadata": {},
   "source": [
    "### Análisis  y Conclusiones\n",
    "\n",
    "Todas las reglas derivadas tienen un **soporte** muy bajo. Casi todas tienen el primer dígito decimal igual a $0$, y las de soporte más alto primer dígito decimal igual a $1$, ninguna supera el $0.13$. Esto indica que las reglas derivadas se encuentran en pocas transacciones de la base de datos, ninguna de ellas está presente en el $13\\%$ o más de las transacciones.\n",
    "\n",
    "Las reglas obtenidas están ordenadas según su **confianza** de menor a mayor, es decir que las primeras reglas son menos confiables que las últimas. La menor confianza obtenida fue de $0.555$, mientras que la mayor de $0.896$.\n",
    "\n",
    "Los valores de **lift** son mayores a 1 en todos los casos. Esto significa que, para cada regla $\\{X \\} \\Rightarrow \\{Y \\}$ derivada, $X$ e $Y$ aparecen juntos una cantidad de veces superior a lo esperado bajo condiciones de independencia, indicando que la aparición de $X$ tiene un efecto positivo sobre la aparición de $Y$.\n",
    "\n",
    "Los valores de **convicción** también son altos en todos los casos, indicando causalidad entre $X$ e $Y$.\n",
    "\n",
    "Muchas de las reglas generadas tienen sentido intuitivamente. Como las que relacionan películas que pertenecen a una misma saga: las del Señor de los Anillos, las de Star Wars, las del Padrino, las de Indiana Jones, etc... O las que relacionan películas de un mismo director (por ejemplo: {Reservoir Dogs (1992)} -> {Pulp Fiction (1994)}). Esto me hace pensar que el algoritmo está funcionando correctamente.\n",
    "\n",
    "Algunas reglas que me resultaron interesantes y no tan obvias son:\n",
    "\n",
    "* {Pulp Fiction (1994), Usual Suspects, The (1995)} -> {Shawshank Redemption, The (1994)}\n",
    "* {Pulp Fiction (1994), Silence of the Lambs, The (1991)} -> {Shawshank Redemption, The (1994)}\n",
    "* {Seven (a.k.a. Se7en) (1995)} -> {Pulp Fiction (1994)}\n",
    "* {Shawshank Redemption, The (1994), Usual Suspects, The (1995)} -> {Pulp Fiction (1994)}\n",
    "* {Raiders of the Lost Ark (Indiana Jones and the Raiders of the Lost Ark) (1981)} -> {Star Wars: Episode IV - A New Hope (1977)}\n",
    "* {Shawshank Redemption, The (1994), Silence of the Lambs, The (1991)} -> {Pulp Fiction (1994)}\n",
    "* {Star Wars: Episode IV - A New Hope (1977), Star Wars: Episode V - The Empire Strikes Back (1980)} -> {Raiders of the Lost Ark (Indiana Jones and the Raiders of the Lost Ark) (1981)}\n",
    "* {Seven (a.k.a. Se7en) (1995)} -> {Shawshank Redemption, The (1994)}\n",
    "* {Usual Suspects, The (1995)} -> {Shawshank Redemption, The (1994)}\n",
    "\n",
    "En general diría que todas las reglas encontradas están bien validadas por las métricas, pero para poder profundizar más el análisis serían necesarias diversas tareas de post-procesamiento para eliminar reglas no interesantes, podar reglas redundantes y conservar las reglas con mayor grado de generalidad."
   ]
  }
 ],
 "metadata": {
  "kernelspec": {
   "display_name": "Python 3",
   "language": "python",
   "name": "python3"
  },
  "language_info": {
   "codemirror_mode": {
    "name": "ipython",
    "version": 3
   },
   "file_extension": ".py",
   "mimetype": "text/x-python",
   "name": "python",
   "nbconvert_exporter": "python",
   "pygments_lexer": "ipython3",
   "version": "3.7.4"
  }
 },
 "nbformat": 4,
 "nbformat_minor": 2
}
